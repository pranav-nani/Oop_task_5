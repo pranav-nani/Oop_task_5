{
  "nbformat": 4,
  "nbformat_minor": 0,
  "metadata": {
    "colab": {
      "name": "Ooptask_5.ipynb",
      "provenance": [],
      "collapsed_sections": []
    },
    "kernelspec": {
      "name": "python3",
      "display_name": "Python 3"
    },
    "language_info": {
      "name": "python"
    }
  },
  "cells": [
    {
      "cell_type": "code",
      "metadata": {
        "colab": {
          "base_uri": "https://localhost:8080/"
        },
        "id": "WKRZWxz2ElM7",
        "outputId": "b1f04d88-8583-47d1-9bdc-4c94438733ab"
      },
      "source": [
        "from math import pi\n",
        "class shape:\n",
        "  def __init__(self,name):\n",
        "    self.name=name\n",
        "  def area(self):\n",
        "    pass\n",
        "class circle(shape):\n",
        "  def __init__(self,radius):\n",
        "    super().__init__(\"circle\")\n",
        "    self.radius=radius\n",
        "  def area(self):\n",
        "    return pi*self.radius**2\n",
        "class square(shape):\n",
        "  def __init__(self,length):\n",
        "    super().__init__(\"square\")\n",
        "    self.length=length\n",
        "  def area(self):\n",
        "    return self.length**2\n",
        "class rectangle(shape):\n",
        "  def  __init__(self,length,breadth):\n",
        "   super().__init__(\"rectangle\")\n",
        "   self.length=length\n",
        "   self.breadth=breadth\n",
        "  def area(self):\n",
        "    return self.length*self.breadth\n",
        "a=circle(10)\n",
        "b=square(8)\n",
        "c=rectangle(4,6)\n",
        "print(a.area())\n",
        "print(b.area())\n",
        "print(c.area())\n",
        "\n"
      ],
      "execution_count": null,
      "outputs": [
        {
          "output_type": "stream",
          "name": "stdout",
          "text": [
            "314.1592653589793\n",
            "64\n",
            "24\n"
          ]
        }
      ]
    },
    {
      "cell_type": "code",
      "metadata": {
        "colab": {
          "base_uri": "https://localhost:8080/"
        },
        "id": "Efm4HldUhk0q",
        "outputId": "7fce76d1-561f-4814-8572-24bf6a31f33e"
      },
      "source": [
        "class Travel:\n",
        "\n",
        "  def __init__(self, passengers):\n",
        "    self.__passengers=passengers\n",
        "  @property\n",
        "  def passengers(self):\n",
        "    return self.__passengers\n",
        "\n",
        "  def distance(self):\n",
        "    pass\n",
        "\n",
        "  def mode(self):\n",
        "    pass\n",
        "\n",
        "class train(Travel):\n",
        "  def cost_of_transport(self):\n",
        "    print(self.passengers*60)\n",
        "class bus(Travel):\n",
        " def cost_of_transport(self):\n",
        "    print(self.passengers*100)\n",
        "\n",
        "mode1 = train(96)\n",
        "mode1.cost_of_transport()\n",
        "\n",
        "mode2 = bus(60)\n",
        "mode2.cost_of_transport()"
      ],
      "execution_count": 14,
      "outputs": [
        {
          "output_type": "stream",
          "name": "stdout",
          "text": [
            "5760\n",
            "6000\n"
          ]
        }
      ]
    },
    {
      "cell_type": "code",
      "metadata": {
        "colab": {
          "base_uri": "https://localhost:8080/"
        },
        "id": "g8HsXOylE-Hf",
        "outputId": "ee157cd2-7716-4c91-a0f1-33c24634c2b2"
      },
      "source": [
        "class car:\n",
        "  def __init__(self,carnumber):\n",
        "    self.carnumber=carnumber\n",
        "c1=car(9909)\n",
        "c2=car(1908)\n",
        "print(c1.carnumber)\n",
        "print(c2.carnumber)\n",
        "def carnumswap():\n",
        "  c1.carnumber,c2.carnumber=c2.carnumber,c1.carnumber\n",
        "  print(\"the model number of c1 is \",c1.carnumber)\n",
        "  print(\"the model number of c2 is \",c2.carnumber)\n",
        "carnumswap()\n",
        "    \n"
      ],
      "execution_count": null,
      "outputs": [
        {
          "output_type": "stream",
          "name": "stdout",
          "text": [
            "9909\n",
            "1908\n",
            "the car number of c1 is  1908\n",
            "the car number of c2 is  9909\n"
          ]
        }
      ]
    }
  ]
}